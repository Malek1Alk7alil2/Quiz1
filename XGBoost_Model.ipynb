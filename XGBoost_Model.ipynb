{
  "nbformat": 4,
  "nbformat_minor": 0,
  "metadata": {
    "colab": {
      "provenance": [],
      "authorship_tag": "ABX9TyPi1U7/PfIVsZjajtQBI+8H",
      "include_colab_link": true
    },
    "kernelspec": {
      "name": "python3",
      "display_name": "Python 3"
    },
    "language_info": {
      "name": "python"
    }
  },
  "cells": [
    {
      "cell_type": "markdown",
      "metadata": {
        "id": "view-in-github",
        "colab_type": "text"
      },
      "source": [
        "<a href=\"https://colab.research.google.com/github/Malek1Alk7alil2/Quiz1/blob/main/XGBoost_Model.ipynb\" target=\"_parent\"><img src=\"https://colab.research.google.com/assets/colab-badge.svg\" alt=\"Open In Colab\"/></a>"
      ]
    },
    {
      "cell_type": "code",
      "execution_count": null,
      "metadata": {
        "id": "z5GRTpfpHAVY"
      },
      "outputs": [],
      "source": [
        "import pandas as pd\n",
        "import numpy as np\n",
        "import matplotlib.pyplot as plt\n",
        "import seaborn as sns\n",
        "from sklearn.model_selection import train_test_split\n",
        "from sklearn.linear_model import LogisticRegression\n",
        "from sklearn.metrics import accuracy_score\n",
        "from sklearn.preprocessing import OneHotEncoder\n",
        "from sklearn.metrics import accuracy_score, precision_score, recall_score, f1_score\n",
        "from imblearn.over_sampling import SMOTE\n",
        "from imblearn.under_sampling import RandomUnderSampler\n",
        "from imblearn.combine import SMOTEENN\n",
        "from sklearn.metrics import classification_report, confusion_matrix\n",
        "from sklearn.preprocessing import StandardScaler\n",
        "from sklearn.neighbors import KNeighborsClassifier\n",
        "from sklearn.naive_bayes import GaussianNB\n",
        "from sklearn.tree import DecisionTreeClassifier\n",
        "from sklearn.metrics import  classification_report, ConfusionMatrixDisplay\n",
        "from xgboost import XGBClassifier\n",
        "from imblearn.ensemble import BalancedRandomForestClassifier\n",
        "from sklearn.preprocessing import LabelEncoder\n",
        "from xgboost import XGBClassifier\n",
        "from sklearn.model_selection import train_test_split, GridSearchCV\n",
        "from sklearn.preprocessing import LabelEncoder, StandardScaler\n",
        "from sklearn.metrics import accuracy_score, classification_report\n"
      ]
    },
    {
      "cell_type": "code",
      "source": [
        "data = pd.read_csv('/content/adult.csv')"
      ],
      "metadata": {
        "id": "XS9Hc0iXHNLQ"
      },
      "execution_count": null,
      "outputs": []
    },
    {
      "cell_type": "code",
      "source": [
        "# Separate features and target variable\n",
        "features = ['Workclass', 'Education', 'Marital Status', 'Occupation', 'Relationship', 'Race', 'Sex', 'Country'] # Only drop categorical features\n",
        "x = data.drop(features, axis=1)\n",
        "y = data['Above/Below 50k']\n",
        "\n",
        "\n",
        "# Split data into training and testing sets\n",
        "x_train, x_test, y_train, y_test = train_test_split(x, y, test_size=0.2, random_state=100)\n",
        "\n",
        "# preprocessing\n",
        "scaler = StandardScaler()\n",
        "\n",
        "# Select only numerical features for scaling\n",
        "numerical_features = x_train.select_dtypes(include=['number']).columns\n",
        "\n",
        "# Fit and transform on numerical features only\n",
        "x_train_transformed = scaler.fit_transform(x_train[numerical_features])\n",
        "x_test_transformed = scaler.transform(x_test[numerical_features])\n",
        "\n",
        "# Apply SMOTE for oversampling\n",
        "smote = SMOTE()\n",
        "x_train_resampled, y_train_resampled = smote.fit_resample(x_train_transformed, y_train)\n",
        "\n",
        "# Apply Label Encoding to the target variable\n",
        "le = LabelEncoder()\n",
        "y_train_resampled = le.fit_transform(y_train_resampled)\n",
        "y_test_transformed = le.transform(y_test)\n",
        "\n",
        "# Define the parameter grid for hyperparameter tuning\n",
        "param_grid = {\n",
        "    'n_estimators': [150],\n",
        "    'learning_rate': [0.01, 0.1, 0.2],\n",
        "    'max_depth': [3, 4,],\n",
        "    'subsample': [0.8, 0.9],\n",
        "    'colsample_bytree': [0.8, 0.9],\n",
        "}\n",
        "\n",
        "# Create an XGBoost classifier\n",
        "xgb = XGBClassifier()\n",
        "\n",
        "# Create a GridSearchCV object\n",
        "grid_search = GridSearchCV(estimator=xgb, param_grid=param_grid, scoring='accuracy', cv=5)\n",
        "\n",
        "# Fit the GridSearchCV object to the resampled training data\n",
        "grid_search.fit(x_train_resampled, y_train_resampled)\n",
        "\n",
        "# Get the best model from the grid search\n",
        "best_model = grid_search.best_estimator_\n",
        "\n",
        "# Make predictions on the test data\n",
        "y_hat_xgb = best_model.predict(x_test_transformed)\n",
        "\n",
        "# Evaluate the model\n",
        "acc = accuracy_score(y_test_transformed, y_hat_xgb)\n",
        "print(f\"Model accuracy was {acc*100:.2f}%\")\n",
        "\n",
        "report = classification_report(y_test_transformed, y_hat_xgb)\n",
        "print(report)\n",
        "\n",
        "print(\"Best parameters found: \", grid_search.best_params_)"
      ],
      "metadata": {
        "colab": {
          "base_uri": "https://localhost:8080/"
        },
        "id": "IkVY8z8mJ0Vk",
        "outputId": "0a23dd22-4967-4bdc-e0b5-b9b1f45281e7"
      },
      "execution_count": null,
      "outputs": [
        {
          "output_type": "stream",
          "name": "stdout",
          "text": [
            "Model accuracy was 81.01%\n",
            "              precision    recall  f1-score   support\n",
            "\n",
            "           0       0.90      0.85      0.87      4908\n",
            "           1       0.60      0.70      0.64      1605\n",
            "\n",
            "    accuracy                           0.81      6513\n",
            "   macro avg       0.75      0.77      0.76      6513\n",
            "weighted avg       0.82      0.81      0.81      6513\n",
            "\n",
            "Best parameters found:  {'colsample_bytree': 0.9, 'learning_rate': 0.2, 'max_depth': 4, 'n_estimators': 150, 'subsample': 0.9}\n"
          ]
        }
      ]
    },
    {
      "cell_type": "code",
      "source": [
        "ConfusionMatrixDisplay.from_predictions(y_test_transformed, y_hat_xgb, cmap=plt.cm.Blues) # Use the transformed y_test (y_test_transformed) that has been label encoded\n",
        "plt.show()"
      ],
      "metadata": {
        "colab": {
          "base_uri": "https://localhost:8080/",
          "height": 449
        },
        "id": "jnfXGRuQVVQl",
        "outputId": "3133ca4a-fe09-41ba-f2cf-ac3b876e80c1"
      },
      "execution_count": null,
      "outputs": [
        {
          "output_type": "display_data",
          "data": {
            "text/plain": [
              "<Figure size 640x480 with 2 Axes>"
            ],
            "image/png": "[encoded data removed]"
          },
          "metadata": {}
        }
      ]
    }
  ]
}