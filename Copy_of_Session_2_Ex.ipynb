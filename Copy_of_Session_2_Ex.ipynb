{
  "cells": [
    {
      "cell_type": "markdown",
      "metadata": {
        "id": "view-in-github",
        "colab_type": "text"
      },
      "source": [
        "<a href=\"https://colab.research.google.com/github/Malek1Alk7alil2/Quiz1/blob/main/Copy_of_Session_2_Ex.ipynb\" target=\"_parent\"><img src=\"https://colab.research.google.com/assets/colab-badge.svg\" alt=\"Open In Colab\"/></a>"
      ]
    },
    {
      "cell_type": "markdown",
      "metadata": {
        "id": "6876K7Oh2mL5"
      },
      "source": [
        "# Python Basics Exercises\n",
        "**By: Mhd Shadi Hasan**\n",
        "\n",
        "\n",
        "## EX 1 - Profit Calculator\n",
        "\n",
        "Write a Python program that the user can use to calculate total profits using the equation:\n",
        "\n",
        "$Total Profit = Total Revenue - Total Expenses$\n",
        "\n",
        "The program should do the following:\n",
        "1. Ask the user to insert their total revenue and total expenses values.\n",
        "2. Calculate the total profit.\n",
        "3. Display the three values in a tidy manner (e.g. Total Profit = 100 JOD)\n",
        "4. The program should be able to perform accurate calculations on any numerical values the user inputs.\n",
        "\n",
        "## EX 2 - Rate of Return Calculator\n",
        "\n",
        "It's the year 2024. Recent AI applications and innovations resulted in high demand on computer chips. This made the stock prices go up for chips companies. Company FANTASTIC CHIPS's stock price was $63.48 on Jan 1st, 2024. An investor wants a program that allows them to calculate what the rate of return will be at the end of 2024 for every expected future stock price that they input to the program. The rate of return equation is:\n",
        "\n",
        "$RR = \\frac{V_f - V_i}{V_i} \\times 100 \\%$\n",
        "\n",
        "The program should do the following:\n",
        "1. Ask the user to input their expectation of the future stock price.\n",
        "2. Calculate the rate of return.\n",
        "3. Print the rate of return as a percentage.\n",
        "4. Print True if their rate of return was positive and False if negative.\n",
        "\n",
        "## EX 3 - Strings\n",
        "\n",
        "Write a program that does the following:\n",
        "\n",
        "1. Ask the user to input their name, age, and city name.\n",
        "2. Print to the output:\n",
        "\n",
        "```\n",
        "Hello [user name],\n",
        "Happy birthday! You're [age] years old now :)\n",
        "Do you need to find a nice restaurant in [city name] to celebrate?\n",
        "```\n",
        "\n",
        "No matter how the user inserts this information, make sure that the user name and city name are both capitalized (i.e. only the first letter must be in uppercase).\n",
        "\n",
        "Use a single `print()` command. Hint: check the python print function documentation to figure out how to do it ;)\n",
        "\n",
        "**P.S. ALL CODE MUST BE CLEAN, READABLE, WELL EXPLAINED, AND FOLLOWS THE PEP 8 STYLE GUIDE.**\n",
        "\n",
        "Happy coding!!"
      ]
    },
    {
      "cell_type": "code",
      "execution_count": null,
      "metadata": {
        "colab": {
          "base_uri": "https://localhost:8080/"
        },
        "id": "k5Q3ZB562YWf",
        "outputId": "5e7019f3-dcf7-4987-a170-59e4fbd6fd8b"
      },
      "outputs": [
        {
          "name": "stdout",
          "output_type": "stream",
          "text": [
            "Enter Total Revenue: 300.23452\n",
            "Enter Total Expenses: 299.4523\n",
            "Total Profit =  0.7822199999999953\n"
          ]
        }
      ],
      "source": [
        "# EX 1\n",
        "\n",
        "TotalRevenue = float(input(\"Enter Total Revenue: \"))  # initial value (TotalRevenue)\n",
        "TotalExpenses = float(input(\"Enter Total Expenses: \")) # initial value (TotalExpenses)\n",
        "\n",
        "TotalProfit=TotalRevenue - TotalExpenses  # calculation\n",
        "\n",
        "print(\"Total Profit = \", TotalProfit)  # print value\n"
      ]
    },
    {
      "cell_type": "code",
      "execution_count": null,
      "metadata": {
        "colab": {
          "base_uri": "https://localhost:8080/"
        },
        "id": "LnkbB5U2D0Ss",
        "outputId": "affe94a1-dc2b-4045-d10c-ef31e1b415cb"
      },
      "outputs": [
        {
          "name": "stdout",
          "output_type": "stream",
          "text": [
            "Enter Expected Future Stock Price: 36.76\n",
            "Rate of Return =  72.68770402611534\n",
            "True\n"
          ]
        }
      ],
      "source": [
        "# EX 2\n",
        "\n",
        "Computer_Chips = float(input(\"Enter Expected Future Stock Price: \"))  # initial value (RR)\n",
        "\n",
        "V_f = 63.48  # Last value\n",
        "V_i = Computer_Chips # Future value\n",
        "\n",
        "RR = ((V_f-V_i)/V_i)*100  # calculation\n",
        "\n",
        "print(\"Rate of Return = \", RR)\n",
        "\n",
        "if RR > 0: # codition statement\n",
        "    print(\"True\")\n",
        "else:\n",
        "    print(\"False\")"
      ]
    },
    {
      "cell_type": "code",
      "execution_count": null,
      "metadata": {
        "colab": {
          "base_uri": "https://localhost:8080/"
        },
        "id": "rFN-tHj-D1tt",
        "outputId": "f9c6e873-f740-4d3a-8de0-631192434662"
      },
      "outputs": [
        {
          "ename": "",
          "evalue": "",
          "output_type": "error",
          "traceback": [
            "\u001b[1;31mRunning cells with 'c:\\Users\\user\\AppData\\Local\\Programs\\Python\\Python312\\python.exe' requires the ipykernel package.\n",
            "\u001b[1;31mRun the following command to install 'ipykernel' into the Python environment. \n",
            "\u001b[1;31mCommand: 'c:/Users/user/AppData/Local/Programs/Python/Python312/python.exe -m pip install ipykernel -U --user --force-reinstall'"
          ]
        }
      ],
      "source": [
        "# EX 3\n",
        "\n",
        "name = input(\"Enter your name: \") # initial value name\n",
        "age = int(input(\"Enter your age: \")) # initial value age\n",
        "City_Name = input(\"Enter your city name: \") # initial value City_Name\n",
        "\n",
        "\n",
        "# codition statement\n",
        "# redefind two variables to upper first index\n",
        "if name[0].islower():\n",
        "    Edit_Name = name[0].upper()\n",
        "if City_Name[0].islower():\n",
        "    Edit_City_Name = City_Name[0].upper()\n",
        "\n",
        "# Concatination  new (First index) variables\n",
        "name = Edit_Name + name[1:]\n",
        "City_Name = Edit_City_Name + City_Name[1:]\n",
        "\n",
        "print(f\"Hello\",{name} , \",\")\n",
        "print(f\"Happy birthday! You're\", {age}, \"years old now : )\")\n",
        "print(f\"Do you need to find a nice restaurant in\", {City_Name}, \"to celebrate?\")\n"
      ]
    }
  ],
  "metadata": {
    "colab": {
      "provenance": [],
      "include_colab_link": true
    },
    "kernelspec": {
      "display_name": "Python 3",
      "name": "python3"
    },
    "language_info": {
      "name": "python",
      "version": "3.12.2"
    }
  },
  "nbformat": 4,
  "nbformat_minor": 0
}