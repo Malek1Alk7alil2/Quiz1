{
  "nbformat": 4,
  "nbformat_minor": 0,
  "metadata": {
    "colab": {
      "provenance": [],
      "authorship_tag": "ABX9TyNlwryfFzp3QPFBOTsf7m3Q",
      "include_colab_link": true
    },
    "kernelspec": {
      "name": "python3",
      "display_name": "Python 3"
    },
    "language_info": {
      "name": "python"
    }
  },
  "cells": [
    {
      "cell_type": "markdown",
      "metadata": {
        "id": "view-in-github",
        "colab_type": "text"
      },
      "source": [
        "<a href=\"https://colab.research.google.com/github/Malek1Alk7alil2/Quiz1/blob/main/Random_Forest_model.ipynb\" target=\"_parent\"><img src=\"https://colab.research.google.com/assets/colab-badge.svg\" alt=\"Open In Colab\"/></a>"
      ]
    },
    {
      "cell_type": "code",
      "execution_count": null,
      "metadata": {
        "id": "m8jVrN7TGT0r"
      },
      "outputs": [],
      "source": [
        "import numpy as np\n",
        "import pandas as pd\n",
        "import matplotlib.pyplot as plt\n",
        "import seaborn as sns"
      ]
    },
    {
      "cell_type": "code",
      "source": [
        "data = pd.read_csv('/content/adult.csv')"
      ],
      "metadata": {
        "id": "qNs7nCiCGdzE"
      },
      "execution_count": null,
      "outputs": []
    },
    {
      "cell_type": "code",
      "source": [
        "import numpy as np\n",
        "import pandas as pd\n",
        "from sklearn.ensemble import RandomForestClassifier\n",
        "from sklearn.model_selection import train_test_split\n",
        "from sklearn.preprocessing import LabelEncoder # Import LabelEncoder\n",
        "from sklearn.metrics import accuracy_score, precision_score, recall_score, f1_score\n",
        "\n",
        "# Assuming 'data' is your DataFrame and 'target_variable' is the name of your target variable column\n",
        "X = data.drop('Above/Below 50k', axis=1)\n",
        "y = data['Above/Below 50k']\n",
        "\n",
        "# Initialize LabelEncoder\n",
        "label_encoder = LabelEncoder()\n",
        "\n",
        "# Iterate over each column in X\n",
        "for col in X.columns:\n",
        "    # Check if the column contains string values (object dtype)\n",
        "    if X[col].dtype == 'object':\n",
        "        # Fit and transform the column using LabelEncoder\n",
        "        X[col] = label_encoder.fit_transform(X[col])\n",
        "\n",
        "# Split data into training and testing sets\n",
        "X_train, X_test, y_train, y_test = train_test_split(X, y, test_size=0.2, random_state=42)\n",
        "\n",
        "# Create a Random Forest classifier\n",
        "rf_model = RandomForestClassifier(random_state=42)\n",
        "\n",
        "# Fit the model to the training data\n",
        "rf_model.fit(X_train, y_train)\n",
        "\n",
        "# Make predictions on the test data\n",
        "y_pred = rf_model.predict(X_test)\n",
        "\n",
        "accuracy = accuracy_score(y_test, y_pred)\n",
        "\n",
        "# Set pos_label to ' >50K' to specify the positive class\n",
        "precision = precision_score(y_test, y_pred, pos_label = ' >50K')\n",
        "recall = recall_score(y_test, y_pred, pos_label = ' >50K')\n",
        "f1 = f1_score(y_test, y_pred, pos_label = ' >50K')\n",
        "\n",
        "print(f\"Accuracy: {accuracy * 100:.2f}%\")\n",
        "print(f\"Precision: {precision * 100:.2f}%\")\n",
        "print(f\"Recall: {recall * 100:.2f}%\")\n",
        "print(f\"F1 Score: {f1 * 100:.2f}%\")"
      ],
      "metadata": {
        "colab": {
          "base_uri": "https://localhost:8080/"
        },
        "id": "kMcdInUyp5TI",
        "outputId": "3e78a144-4c75-4eef-c2b9-cebcdf58a838"
      },
      "execution_count": null,
      "outputs": [
        {
          "output_type": "stream",
          "name": "stdout",
          "text": [
            "Accuracy: 86.17%\n",
            "Accuracy: 86.17%\n",
            "Precision: 74.78%\n",
            "Recall: 64.35%\n",
            "F1 Score: 69.18%\n"
          ]
        }
      ]
    }
  ]
}