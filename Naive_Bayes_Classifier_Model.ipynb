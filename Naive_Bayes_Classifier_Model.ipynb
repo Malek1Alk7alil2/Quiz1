{
  "nbformat": 4,
  "nbformat_minor": 0,
  "metadata": {
    "colab": {
      "provenance": [],
      "authorship_tag": "ABX9TyOF3yMsHjudSI5iJQx0rGbw",
      "include_colab_link": true
    },
    "kernelspec": {
      "name": "python3",
      "display_name": "Python 3"
    },
    "language_info": {
      "name": "python"
    }
  },
  "cells": [
    {
      "cell_type": "markdown",
      "metadata": {
        "id": "view-in-github",
        "colab_type": "text"
      },
      "source": [
        "<a href=\"https://colab.research.google.com/github/Malek1Alk7alil2/Quiz1/blob/main/Naive_Bayes_Classifier_Model.ipynb\" target=\"_parent\"><img src=\"https://colab.research.google.com/assets/colab-badge.svg\" alt=\"Open In Colab\"/></a>"
      ]
    },
    {
      "cell_type": "code",
      "source": [
        "import pandas as pd\n",
        "import numpy as np\n",
        "import matplotlib.pyplot as plt\n",
        "import seaborn as sns"
      ],
      "metadata": {
        "id": "BHZL82IOMGZU"
      },
      "execution_count": null,
      "outputs": []
    },
    {
      "cell_type": "code",
      "source": [
        "data = pd.read_csv('/content/adult.csv')"
      ],
      "metadata": {
        "id": "ZTAr-8ZfMe4r"
      },
      "execution_count": null,
      "outputs": []
    },
    {
      "cell_type": "code",
      "source": [
        "from sklearn.model_selection import train_test_split\n",
        "from sklearn.linear_model import LogisticRegression\n",
        "from sklearn.metrics import accuracy_score\n",
        "from sklearn.preprocessing import OneHotEncoder\n",
        "from sklearn.metrics import accuracy_score, precision_score, recall_score, f1_score\n",
        "from imblearn.over_sampling import SMOTE\n",
        "from imblearn.under_sampling import RandomUnderSampler\n",
        "from imblearn.combine import SMOTEENN\n",
        "from sklearn.metrics import classification_report, confusion_matrix\n",
        "from sklearn.preprocessing import StandardScaler\n",
        "from sklearn.neighbors import KNeighborsClassifier\n",
        "from sklearn.naive_bayes import GaussianNB\n",
        "from sklearn.tree import DecisionTreeClassifier\n",
        "from sklearn.metrics import  classification_report, ConfusionMatrixDisplay"
      ],
      "metadata": {
        "id": "nSiAkyyAMGb8"
      },
      "execution_count": null,
      "outputs": []
    },
    {
      "cell_type": "code",
      "source": [
        "data['interaction_Education Num_Hours/Week'] = data['Education Num'] * data['Hours/Week']\n",
        "data['interaction_Education Num_Age'] = data['Education Num'] * data['Age']"
      ],
      "metadata": {
        "id": "IvvA88BlPh2a"
      },
      "execution_count": null,
      "outputs": []
    },
    {
      "cell_type": "code",
      "source": [
        "data.info()"
      ],
      "metadata": {
        "colab": {
          "base_uri": "https://localhost:8080/"
        },
        "id": "43UFD9a8RBLE",
        "outputId": "d5d91703-6afd-46ab-9c1a-395e34e000a5"
      },
      "execution_count": null,
      "outputs": [
        {
          "output_type": "stream",
          "name": "stdout",
          "text": [
            "<class 'pandas.core.frame.DataFrame'>\n",
            "RangeIndex: 32561 entries, 0 to 32560\n",
            "Data columns (total 17 columns):\n",
            " #   Column                                Non-Null Count  Dtype \n",
            "---  ------                                --------------  ----- \n",
            " 0   Age                                   32561 non-null  int64 \n",
            " 1   Workclass                             32561 non-null  object\n",
            " 2   fnlgwt                                32561 non-null  int64 \n",
            " 3   Education                             32561 non-null  object\n",
            " 4   Education Num                         32561 non-null  int64 \n",
            " 5   Marital Status                        32561 non-null  object\n",
            " 6   Occupation                            32561 non-null  object\n",
            " 7   Relationship                          32561 non-null  object\n",
            " 8   Race                                  32561 non-null  object\n",
            " 9   Sex                                   32561 non-null  object\n",
            " 10  Capital Gain                          32561 non-null  int64 \n",
            " 11  Capital Loss                          32561 non-null  int64 \n",
            " 12  Hours/Week                            32561 non-null  int64 \n",
            " 13  Country                               32561 non-null  object\n",
            " 14  Above/Below 50k                       32561 non-null  object\n",
            " 15  interaction_Education Num_Hours/Week  32561 non-null  int64 \n",
            " 16  interaction_Education Num_Age         32561 non-null  int64 \n",
            "dtypes: int64(8), object(9)\n",
            "memory usage: 4.2+ MB\n"
          ]
        }
      ]
    },
    {
      "cell_type": "code",
      "source": [
        "data['Above/Below 50k'].value_counts()"
      ],
      "metadata": {
        "colab": {
          "base_uri": "https://localhost:8080/",
          "height": 178
        },
        "id": "HCM2-tUeRoDM",
        "outputId": "1971cb75-adb6-4a74-a9b4-191a680b6aa7"
      },
      "execution_count": null,
      "outputs": [
        {
          "output_type": "execute_result",
          "data": {
            "text/plain": [
              "Above/Below 50k\n",
              " <=50K    24720\n",
              " >50K      7841\n",
              "Name: count, dtype: int64"
            ],
            "text/html": [
              "<div>\n",
              "<style scoped>\n",
              "    .dataframe tbody tr th:only-of-type {\n",
              "        vertical-align: middle;\n",
              "    }\n",
              "\n",
              "    .dataframe tbody tr th {\n",
              "        vertical-align: top;\n",
              "    }\n",
              "\n",
              "    .dataframe thead th {\n",
              "        text-align: right;\n",
              "    }\n",
              "</style>\n",
              "<table border=\"1\" class=\"dataframe\">\n",
              "  <thead>\n",
              "    <tr style=\"text-align: right;\">\n",
              "      <th></th>\n",
              "      <th>count</th>\n",
              "    </tr>\n",
              "    <tr>\n",
              "      <th>Above/Below 50k</th>\n",
              "      <th></th>\n",
              "    </tr>\n",
              "  </thead>\n",
              "  <tbody>\n",
              "    <tr>\n",
              "      <th>&lt;=50K</th>\n",
              "      <td>24720</td>\n",
              "    </tr>\n",
              "    <tr>\n",
              "      <th>&gt;50K</th>\n",
              "      <td>7841</td>\n",
              "    </tr>\n",
              "  </tbody>\n",
              "</table>\n",
              "</div><br><label><b>dtype:</b> int64</label>"
            ]
          },
          "metadata": {},
          "execution_count": 82
        }
      ]
    },
    {
      "cell_type": "code",
      "source": [
        "'''data['Above/Below 50k'] = data['Above/Below 50k'].map({'<=50K': 0, '>50K': 1})'''"
      ],
      "metadata": {
        "id": "6A-8aLNqOnJq"
      },
      "execution_count": null,
      "outputs": []
    },
    {
      "cell_type": "code",
      "source": [
        "data['Above/Below 50k'].value_counts()"
      ],
      "metadata": {
        "colab": {
          "base_uri": "https://localhost:8080/",
          "height": 178
        },
        "id": "lb3ELo1cQvKS",
        "outputId": "abcd6290-86c6-4296-eaf8-c45bbbd7aedc"
      },
      "execution_count": null,
      "outputs": [
        {
          "output_type": "execute_result",
          "data": {
            "text/plain": [
              "Above/Below 50k\n",
              " <=50K    24720\n",
              " >50K      7841\n",
              "Name: count, dtype: int64"
            ],
            "text/html": [
              "<div>\n",
              "<style scoped>\n",
              "    .dataframe tbody tr th:only-of-type {\n",
              "        vertical-align: middle;\n",
              "    }\n",
              "\n",
              "    .dataframe tbody tr th {\n",
              "        vertical-align: top;\n",
              "    }\n",
              "\n",
              "    .dataframe thead th {\n",
              "        text-align: right;\n",
              "    }\n",
              "</style>\n",
              "<table border=\"1\" class=\"dataframe\">\n",
              "  <thead>\n",
              "    <tr style=\"text-align: right;\">\n",
              "      <th></th>\n",
              "      <th>count</th>\n",
              "    </tr>\n",
              "    <tr>\n",
              "      <th>Above/Below 50k</th>\n",
              "      <th></th>\n",
              "    </tr>\n",
              "  </thead>\n",
              "  <tbody>\n",
              "    <tr>\n",
              "      <th>&lt;=50K</th>\n",
              "      <td>24720</td>\n",
              "    </tr>\n",
              "    <tr>\n",
              "      <th>&gt;50K</th>\n",
              "      <td>7841</td>\n",
              "    </tr>\n",
              "  </tbody>\n",
              "</table>\n",
              "</div><br><label><b>dtype:</b> int64</label>"
            ]
          },
          "metadata": {},
          "execution_count": 83
        }
      ]
    },
    {
      "cell_type": "code",
      "source": [
        "data['interaction_Education_Num_Hours/Week'] = data['Education Num'] * data['Hours/Week']\n",
        "data['interaction_Education_Num_Age'] = data['Education Num'] * data['Age']"
      ],
      "metadata": {
        "id": "bGGBlpRP7iOm"
      },
      "execution_count": null,
      "outputs": []
    },
    {
      "cell_type": "code",
      "source": [
        "features = ['interaction_Education_Num_Hours/Week','interaction_Education_Num_Age', 'Capital Gain' , 'fnlgwt']\n",
        "x = data.drop('Above/Below 50k', axis=1)\n",
        "y = data['Above/Below 50k']\n",
        "\n",
        "x_train, x_test, y_train, y_test = train_test_split(x, y, test_size=0.2, shuffle = True)\n",
        "\n",
        "print(f\"Data size: {len(x)}\\nTraining data size: {len(x_train)}\\nTesting data size: {len(x_test)}\")"
      ],
      "metadata": {
        "colab": {
          "base_uri": "https://localhost:8080/"
        },
        "id": "J1UhTmAzMkxS",
        "outputId": "5b93f16b-45d1-481b-da5b-c1019769d311"
      },
      "execution_count": null,
      "outputs": [
        {
          "output_type": "stream",
          "name": "stdout",
          "text": [
            "Data size: 32561\n",
            "Training data size: 26048\n",
            "Testing data size: 6513\n"
          ]
        }
      ]
    },
    {
      "cell_type": "code",
      "source": [
        "# preprocessing\n",
        "scaler = StandardScaler()\n",
        "\n",
        "# Select only numerical features for scaling\n",
        "numerical_features = x_train.select_dtypes(include=['number']).columns\n",
        "\n",
        "# Fit and transform on numerical features only\n",
        "x_train_transformed = scaler.fit_transform(x_train[numerical_features])\n",
        "x_test_transformed = scaler.transform(x_test[numerical_features])"
      ],
      "metadata": {
        "id": "ZkQj6DPNQaPc"
      },
      "execution_count": null,
      "outputs": []
    },
    {
      "cell_type": "code",
      "source": [
        "smote = SMOTE(random_state=42)\n",
        "x_train_smote, y_train_smote = smote.fit_resample(x_train_transformed, y_train)\n",
        "\n",
        "'''rus = RandomUnderSampler(random_state=42)\n",
        "X_train_balanced, y_train_balanced = rus.fit_resample(x_train, y_train)'''\n",
        "\n",
        "# Check the class distribution after SMOTE\n",
        "'''print(\"Class distribution after SMOTE:\", y_train_balanced.value_counts())'''\n",
        "\n",
        "nb = GaussianNB()\n",
        "nb.fit(x_train_transformed, y_train)\n",
        "y_hat_nb = nb.predict(x_test_transformed)\n",
        "\n",
        "acc = accuracy_score(y_test, y_hat_nb)\n",
        "print(f\"Model accuracy was {acc*100:.2f}%\")\n",
        "\n",
        "report = classification_report(y_test, y_hat_nb)\n",
        "print(report)"
      ],
      "metadata": {
        "colab": {
          "base_uri": "https://localhost:8080/"
        },
        "id": "o11g148-R9ID",
        "outputId": "0812e2fc-f2d0-4fbb-d577-358dc9b2e6a3"
      },
      "execution_count": null,
      "outputs": [
        {
          "output_type": "stream",
          "name": "stdout",
          "text": [
            "Model accuracy was 81.36%\n",
            "              precision    recall  f1-score   support\n",
            "\n",
            "       <=50K       0.85      0.91      0.88      4956\n",
            "        >50K       0.64      0.51      0.57      1557\n",
            "\n",
            "    accuracy                           0.81      6513\n",
            "   macro avg       0.75      0.71      0.72      6513\n",
            "weighted avg       0.80      0.81      0.81      6513\n",
            "\n"
          ]
        }
      ]
    },
    {
      "cell_type": "code",
      "source": [
        "ConfusionMatrixDisplay.from_predictions(y_test, y_hat_nb, cmap=plt.cm.Blues)\n",
        "plt.show()"
      ],
      "metadata": {
        "id": "ds7RcqEMVT2v",
        "outputId": "3dfac6a2-cd43-4901-ed25-677bcdc1b97e",
        "colab": {
          "base_uri": "https://localhost:8080/",
          "height": 454
        }
      },
      "execution_count": null,
      "outputs": [
        {
          "output_type": "display_data",
          "data": {
            "text/plain": [
              "<Figure size 640x480 with 2 Axes>"
            ],
            "image/png": "[encoded data removed]"
          },
          "metadata": {}
        }
      ]
    }
  ]
}